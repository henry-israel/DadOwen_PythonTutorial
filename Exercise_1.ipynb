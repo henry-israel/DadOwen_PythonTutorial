{
 "cells": [
  {
   "attachments": {},
   "cell_type": "markdown",
   "metadata": {},
   "source": [
    "Hello Owen and dad, you both smell!\n",
    "\n",
    "Hopefully this introduces some basic python concepts. By the end of this work book you should be happy with these basic python concepts \n",
    "\n",
    "- Printing an output to terminal\n",
    "- Variables in code\n",
    "- If statements\n",
    "- For and While loops  "
   ]
  },
  {
   "cell_type": "code",
   "execution_count": 1,
   "metadata": {},
   "outputs": [
    {
     "name": "stdout",
     "output_type": "stream",
     "text": [
      "Owen Smells\n"
     ]
    }
   ],
   "source": [
    "\"\"\"\n",
    "Let' start with print statements. This allows us to print something to terminal, for example if I wanted \n",
    "my computer to say \"Owen Smells\" I could write the following code:\n",
    "\"\"\"\n",
    "print(\"Owen Smells\")  # (This is a comment, by adding a \"#\" or \"\"\" I can leave notes to myself!)\n"
   ]
  },
  {
   "attachments": {},
   "cell_type": "markdown",
   "metadata": {},
   "source": [
    "Now there a few things to note in the previous bit of code\n",
    "\n",
    "1. I put \"\"\" \"\"\" at the top, this is for long comments and bits of code that won't get executed\n",
    "2. I put \"Owen Smells\" in \"\", this is what's known as a 'string' (denoted str in python) and is used for bits of text\n",
    "3. I put brackets around the thing I'm printing. In python brackets tell functions like \"print\" what their input is\n",
    "\n",
    "\n",
    "Okay now we've worked out how to get python to print stuff for us we can start doing interesting things! Let's start with some really basic stuff. In python we can do all arithmetical operations so let's take a look!"
   ]
  },
  {
   "cell_type": "code",
   "execution_count": null,
   "metadata": {},
   "outputs": [],
   "source": [
    "# Firstly let's see how maths is done!\n",
    "\n",
    "# Addition\n",
    "print(\"Addition : \", 1 + 1) # print(x, y) will out put x y to the terminal!\n",
    "\n",
    "# Subtraction\n",
    "print(\"Subtraction : \", 1 - 1)\n",
    "\n",
    "# Multiplication\n",
    "print(\"Multiplication : \",1 * 3)\n",
    "\n",
    "# Division\n",
    "print(\"Division : \",1 / 3)  # Note that division on computers is sometimes a bit wierd!\n"
   ]
  },
  {
   "attachments": {},
   "cell_type": "markdown",
   "metadata": {},
   "source": [
    "This is useful but we can actually do something more powerful in code, assign values to variables!\n",
    "\n",
    "For example :"
   ]
  },
  {
   "cell_type": "code",
   "execution_count": 2,
   "metadata": {},
   "outputs": [
    {
     "name": "stdout",
     "output_type": "stream",
     "text": [
      "3\n"
     ]
    }
   ],
   "source": [
    "x=1  # We asign variables by using the \"=\" sign\n",
    "y=3 \n",
    "\n",
    "print(x*y)"
   ]
  },
  {
   "attachments": {},
   "cell_type": "markdown",
   "metadata": {},
   "source": [
    "This is really useful but it gets even more useful once we start letting computer use logic!\n",
    "\n",
    "Computers are binary and can check if things are True or False! To do this in python we use an \"if/else\" statement. "
   ]
  },
  {
   "cell_type": "code",
   "execution_count": null,
   "metadata": {},
   "outputs": [],
   "source": [
    "\"\"\"\n",
    "An if statement is a logical check to see if something is true\n",
    "\"\"\"\n",
    "\n",
    "# So let's do the following (please play with the value of x to make sure you get this bit!)\n",
    "\n",
    "x=13\n",
    "if x<10:  # Firstly we check if x<10\n",
    "    print(\"x is less than 10\") # If it is we print this (note that it's indented with a \"tab\" so python knows what to check)\n",
    "else: # Else tells the computer what to do if it is not true\n",
    "    print(\"x is greater than 10\") # If it is not true we print this\n",
    "\n",
    "\"\"\"\n",
    " Now there are few other operators for can use\n",
    "\n",
    "If we want to see if two things are equal we use \"==\"\n",
    "If we want to see if two things are not equal we use \"!=\"\n",
    "If we want to see if one thing is greater than another we use \">\"\n",
    "If we want to see if one thing is less than another we use \"<\"\n",
    "If we want to see if one thing is greater than or equal to another we use \">=\"\n",
    "If we want to see if one thing is less than or equal to another we use \"<=\"\n",
    "\n",
    "\n",
    "What's cool is == and != can be used on things like strings! Let's see that in action\n",
    "\"\"\"\n",
    "\n",
    "smelly=\"Owen\"\n",
    "if smelly==\"Owen\":\n",
    "    print(\"Owen is smelly\")\n",
    "else:\n",
    "    print(\"Not smelly\")"
   ]
  },
  {
   "attachments": {},
   "cell_type": "markdown",
   "metadata": {},
   "source": [
    "Okay now we've done some computer logic let's see what else we can make do! Well the other thing we can get computers to do is do lots and lots of calculations. For this we need to use loops. In Python there are two kinds of loops :\n",
    "\n",
    "- For loops. Here you iterate over a list of things for example :"
   ]
  },
  {
   "cell_type": "code",
   "execution_count": null,
   "metadata": {},
   "outputs": [],
   "source": [
    "for x in range(10):\n",
    "    print(x)\n",
    "\n",
    "# note : In python counting starts at 0 so this prints the numbers 0-9"
   ]
  },
  {
   "attachments": {},
   "cell_type": "markdown",
   "metadata": {},
   "source": [
    "- While loops. Here we iterate until some condition is false! These are a lot more dangerous since we can end up in infinite loops!"
   ]
  },
  {
   "cell_type": "code",
   "execution_count": null,
   "metadata": {},
   "outputs": [],
   "source": [
    "counter = 0\n",
    "while counter<10:\n",
    "    print(counter)\n",
    "    counter += 1 # This is the same as counter = counter + 1 i.e. we add one everytime!"
   ]
  },
  {
   "attachments": {},
   "cell_type": "markdown",
   "metadata": {},
   "source": [
    "We could very easily make this infinite by making the condition \"while counter >= 0\" and it would never stop! I very very rarely actually use for loops in my code. \n",
    "\n",
    "Let's put this together and write some less trivial code. We're going to make a quick programe that adds the numbers from 0 to N"
   ]
  },
  {
   "cell_type": "code",
   "execution_count": 4,
   "metadata": {},
   "outputs": [
    {
     "name": "stdout",
     "output_type": "stream",
     "text": [
      "The sum of all the numbers from 1 to 10  is :  55\n",
      "Yay the sum is correct\n",
      "2\n"
     ]
    }
   ],
   "source": [
    "# Okay so first we need to have our sum variable\n",
    "\n",
    "sum=0 #this is what we're going to add our numbers to\n",
    "N = 10 # This is the number we're going to sum up to\n",
    "\n",
    "# Now we can do this in two ways, with a for loop and a while loop. I'm going to do it with a for loop\n",
    "\n",
    "\n",
    "for x in range(1, N+1): #By having 1 as our start we avoid an unecessary +0 loop. We need to go to N+1 since otherwise the counter stops at N-1\n",
    "    sum += x\n",
    "\n",
    "print(\"The sum of all the numbers from 1 to\", N, \" is : \", sum)\n",
    "\n",
    "# Now we can actually check this is correct mathematically!\n",
    "real_sum = N*(N+1)/2\n",
    "\n",
    "if(real_sum!=sum):\n",
    "    print(\"The sum is wrong rewrite your code!\")\n",
    "else:\n",
    "    print(\"Yay the sum is correct\")\n"
   ]
  },
  {
   "attachments": {},
   "cell_type": "markdown",
   "metadata": {},
   "source": [
    "Okay now its your turn, I have a few exercise that I think might be useful\n",
    "\n",
    "1. Make code that outputs \"hello world\" \n",
    "2. Write code that prints |x| i.e. |-3|=3 |3|=3 (gets rid of the - sign)\n",
    "3. Using a while loop add all the numbers from 1 to N\n",
    "\n",
    "Extension : \n",
    "4. Get the sum of all even numbers from 1 to N\n",
    "\n",
    "For this exercise it's useful to note that the \"%\" operator returns the remainder of two numbers. For example\n",
    "\n",
    "10%5==0\n",
    "10%4==2 because 10 = 2*4 + 2"
   ]
  }
 ],
 "metadata": {
  "kernelspec": {
   "display_name": "Python 3",
   "language": "python",
   "name": "python3"
  },
  "language_info": {
   "codemirror_mode": {
    "name": "ipython",
    "version": 3
   },
   "file_extension": ".py",
   "mimetype": "text/x-python",
   "name": "python",
   "nbconvert_exporter": "python",
   "pygments_lexer": "ipython3",
   "version": "3.11.2"
  },
  "orig_nbformat": 4
 },
 "nbformat": 4,
 "nbformat_minor": 2
}
